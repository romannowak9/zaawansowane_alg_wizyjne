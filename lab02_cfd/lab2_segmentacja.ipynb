{
 "cells": [
  {
   "cell_type": "code",
   "execution_count": 2,
   "metadata": {},
   "outputs": [],
   "source": [
    "import matplotlib.pyplot as plt\n",
    "import cv2\n",
    "import numpy as np\n",
    "import os"
   ]
  },
  {
   "cell_type": "code",
   "execution_count": 4,
   "metadata": {},
   "outputs": [],
   "source": [
    "dir = 'pedestrian/input'\n",
    "\n",
    "for f in os.listdir(dir):\n",
    "    if f.endswith(('.png', '.jpg', '.jpeg', '.bmp', '.tiff')):\n",
    "        image_path = os.path.join(dir, f)  # Full path to the image\n",
    "        img = cv2.imread(image_path)\n",
    "        cv2.imshow(dir, img)\n",
    "        cv2.waitKey(1)\n",
    "        \n",
    "cv2.destroyAllWindows()"
   ]
  },
  {
   "cell_type": "code",
   "execution_count": null,
   "metadata": {},
   "outputs": [],
   "source": [
    "step = 2\n",
    "\n",
    "for i in range(300, 1100):\n",
    "    if not i % step:\n",
    "        I = cv2.imread('pedestrian/input/in%06d.jpg' % i)\n",
    "        cv2.imshow(\"I\", I)\n",
    "        cv2.waitKey(10)\n",
    "\n",
    "cv2.destroyAllWindows()\n"
   ]
  },
  {
   "cell_type": "markdown",
   "metadata": {},
   "source": [
    "### Odejmowanie"
   ]
  },
  {
   "cell_type": "code",
   "execution_count": null,
   "metadata": {},
   "outputs": [],
   "source": [
    "def indexation_and_mark(dir, step, thresh):\n",
    "    \n",
    "    with open(\"%stemporalROI.txt\" % dir, \"r\") as f:  # open file\n",
    "        line = f.readline()  # read line\n",
    "            \n",
    "    roi_start, roi_end = line.split()  # split line\n",
    "    roi_start = int(roi_start)  # conversion to int\n",
    "    roi_end = int(roi_end)  # conversion to int\n",
    "    \n",
    "    prev_I = cv2.imread(\"%sinput/in%06d.jpg\" % (dir, roi_start))\n",
    "    prev_I = cv2.cvtColor(prev_I, cv2.COLOR_BGR2GRAY).astype(int)\n",
    "\n",
    "    tp = 0\n",
    "    tn = 0\n",
    "    fp = 0\n",
    "    fn = 0\n",
    "\n",
    "    for i in range(roi_start + 1, roi_end):\n",
    "        if not i % step:\n",
    "            I = cv2.cvtColor(cv2.imread(\"%sinput/in%06d.jpg\" % (dir, i)), cv2.COLOR_BGR2GRAY).astype(int)\n",
    "            diff = np.abs(I - prev_I).astype(np.uint8)\n",
    "            prev_I = I\n",
    "            cv2.imshow(\"difference\", diff)\n",
    "            cv2.waitKey(10)\n",
    "            B = (255 * (diff > thresh)).astype(np.uint8)\n",
    "            # lub (T,  thresh) = cv2.threshold (D ,10 ,255 , cv2 . THRESH_BINARY)\n",
    "            cv2.imshow(\"binarization\", B)\n",
    "            cv2.waitKey(10)\n",
    "            # filtracja medianowa\n",
    "            B = cv2.medianBlur(B, 3)\n",
    "            kernel = np.ones((3, 3), np.uint8)\n",
    "            # erozja i dylatacja po sobie - otwarcie morfologiczne\n",
    "            Iopen = cv2.morphologyEx(B, cv2.MORPH_OPEN, kernel)\n",
    "            cv2.imshow(\"opening\", Iopen)\n",
    "            cv2.waitKey(10)\n",
    "\n",
    "            retval, labels, stats, centroids = cv2.connectedComponentsWithStats(B)\n",
    "            # retval -- total number of unique labels\n",
    "            # labels -- destination labeled image\n",
    "            # stats -- statistics output for each label , including the background label .\n",
    "            # centroids -- centroid output for each label , including the background label .\n",
    "\n",
    "            cv2.imshow(\"Labels\", np.uint8(labels / retval * 255))\n",
    "            cv2.waitKey(10)\n",
    "\n",
    "            I_VIS = cv2.imread(\"%sinput/in%06d.jpg\" % (dir, i))\n",
    "            if stats.shape[0] > 1:  # are there any objects\n",
    "                tab = stats[1:, 4]  # 4 columns without first element\n",
    "                pi = np.argmax(tab)  # finding the index of the largest item\n",
    "                pi = pi + 1  # increment because we want the index in stats , not in tab\n",
    "                # drawing a bbox\n",
    "                cv2.rectangle(\n",
    "                    I_VIS,\n",
    "                    (stats[pi, 0], stats[pi, 1]),\n",
    "                    (stats[pi, 0] + stats[pi, 2], stats[pi, 1] + stats[pi, 3]),\n",
    "                    (255, 0, 0),\n",
    "                    2,\n",
    "                )\n",
    "                # print information about the field and the number of the largest element\n",
    "                cv2.putText(\n",
    "                    I_VIS,\n",
    "                    \"%f\" % stats[pi, 4],\n",
    "                    (stats[pi, 0], stats[pi, 1]),\n",
    "                    cv2.FONT_HERSHEY_SIMPLEX,\n",
    "                    0.5,\n",
    "                    (255, 0, 0),\n",
    "                )\n",
    "                cv2.putText(\n",
    "                    I_VIS,\n",
    "                    \"%d\" % pi,\n",
    "                    (int(centroids[pi, 0]), int(centroids[pi, 1])),\n",
    "                    cv2.FONT_HERSHEY_SIMPLEX,\n",
    "                    1,\n",
    "                    (255, 0, 0),\n",
    "                )\n",
    "\n",
    "            cv2.imshow(\"indexation\", I_VIS)\n",
    "            cv2.waitKey(10)\n",
    "            \n",
    "            if i > roi_start and i < roi_end:\n",
    "                gt_mask = cv2.imread(\"%sgroundtruth/gt%06d.png\" % (dir, i), 0)   # 0 to szary obraz\n",
    "                tp_m = np.logical_and((B == 255), (gt_mask == 255)) * 1  # logical product of the matrix elements\n",
    "                tn_m = np.logical_and((B == 0), (gt_mask == 0)) * 1\n",
    "                fp_m = np.logical_and((B == 255), (gt_mask == 0)) * 1\n",
    "                fn_m = np.logical_and((B == 0), (gt_mask == 255)) * 1\n",
    "\n",
    "                tp = np.sum(tp_m) + tp  # sum of the elements in the matrix and update sum\n",
    "                tn = np.sum(tn_m) + tn\n",
    "                fp = np.sum(fp_m) + fp\n",
    "                fn = np.sum(fn_m) + fn\n",
    "\n",
    "    precision = tp / (tp + fp)\n",
    "    recall = tp / (tp + fn)\n",
    "    f1 = (2 * precision * recall) / (precision + recall)\n",
    "\n",
    "    print(f\"{dir[:-1]} precision: {precision}\")\n",
    "    print(f\"{dir[:-1]} recall: {recall}\")\n",
    "    print(f\"{dir[:-1]} f1: {f1}\")\n",
    "\n",
    "    cv2.destroyAllWindows()\n",
    "    \n",
    "    return precision, recall, f1\n"
   ]
  },
  {
   "cell_type": "code",
   "execution_count": null,
   "metadata": {},
   "outputs": [
    {
     "name": "stdout",
     "output_type": "stream",
     "text": [
      "pedestrian precision: 0.7267733122323391\n",
      "pedestrian recall: 0.4052502601131082\n",
      "pedestrian f1: 0.5203514856412259\n",
      "office precision: 0.9302603671699466\n",
      "office recall: 0.03420698733431967\n",
      "office f1: 0.06598752036300502\n",
      "highway precision: 0.9446556905077627\n",
      "highway recall: 0.4461302879738315\n",
      "highway f1: 0.6060451022125748\n"
     ]
    }
   ],
   "source": [
    "pedestrian_out = indexation_and_mark(\"pedestrian/\", step=1, thresh=20)\n",
    "office_out = indexation_and_mark(\"office/\", step=1, thresh=12)\n",
    "highway_out = indexation_and_mark(\"highway/\", step=1, thresh=20)"
   ]
  }
 ],
 "metadata": {
  "kernelspec": {
   "display_name": "Python 3",
   "language": "python",
   "name": "python3"
  },
  "language_info": {
   "codemirror_mode": {
    "name": "ipython",
    "version": 3
   },
   "file_extension": ".py",
   "mimetype": "text/x-python",
   "name": "python",
   "nbconvert_exporter": "python",
   "pygments_lexer": "ipython3",
   "version": "3.11.3"
  }
 },
 "nbformat": 4,
 "nbformat_minor": 2
}
